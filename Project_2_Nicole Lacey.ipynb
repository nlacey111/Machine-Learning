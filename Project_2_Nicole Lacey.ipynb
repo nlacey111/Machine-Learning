{
  "nbformat": 4,
  "nbformat_minor": 0,
  "metadata": {
    "colab": {
      "name": "Project_2_NLP.ipynb",
      "provenance": [],
      "include_colab_link": true
    },
    "kernelspec": {
      "name": "python3",
      "display_name": "Python 3"
    },
    "language_info": {
      "name": "python"
    },
    "accelerator": "GPU"
  },
  "cells": [
    {
      "cell_type": "markdown",
      "metadata": {
        "id": "view-in-github",
        "colab_type": "text"
      },
      "source": [
        "<a href=\"https://colab.research.google.com/github/cs167/project-2-niclacey/blob/main/Project_2_Nicole%20Lacey.ipynb\" target=\"_parent\"><img src=\"https://colab.research.google.com/assets/colab-badge.svg\" alt=\"Open In Colab\"/></a>"
      ]
    },
    {
      "cell_type": "markdown",
      "metadata": {
        "id": "vu0Kz0Nq4ui4"
      },
      "source": [
        "# Project \\#2 Starter Code Nicole Lacey\n",
        "Your project should address the categories below. \n",
        "\n",
        "## Problem:\n",
        "Not knowing if a given review is a positive one or a negative one. I will use different models to try and predict the sentiment on reviews. THis is useful for pretty much any company that sells a product. For clothing reviews, movie reviews, etc. its an easy way to tell if their products are doing well or not. \n",
        "\n"
      ]
    },
    {
      "cell_type": "markdown",
      "metadata": {
        "id": "NBZAVjcWhgBV"
      },
      "source": [
        "# Input Pipeline (sklearn):"
      ]
    },
    {
      "cell_type": "code",
      "metadata": {
        "colab": {
          "base_uri": "https://localhost:8080/",
          "height": 223
        },
        "id": "12XGv2fIfTSr",
        "outputId": "61e39883-dd82-445d-d86f-e938b1c448eb"
      },
      "source": [
        "from google.colab import drive\n",
        "import pandas\n",
        "drive.mount('/content/drive')\n",
        "data = pandas.read_csv('/content/drive/MyDrive/Datasets/IMDB_dataset.csv')\n",
        "data.head()"
      ],
      "execution_count": 1,
      "outputs": [
        {
          "output_type": "stream",
          "name": "stdout",
          "text": [
            "Mounted at /content/drive\n"
          ]
        },
        {
          "output_type": "execute_result",
          "data": {
            "text/html": [
              "<div>\n",
              "<style scoped>\n",
              "    .dataframe tbody tr th:only-of-type {\n",
              "        vertical-align: middle;\n",
              "    }\n",
              "\n",
              "    .dataframe tbody tr th {\n",
              "        vertical-align: top;\n",
              "    }\n",
              "\n",
              "    .dataframe thead th {\n",
              "        text-align: right;\n",
              "    }\n",
              "</style>\n",
              "<table border=\"1\" class=\"dataframe\">\n",
              "  <thead>\n",
              "    <tr style=\"text-align: right;\">\n",
              "      <th></th>\n",
              "      <th>review</th>\n",
              "      <th>sentiment</th>\n",
              "    </tr>\n",
              "  </thead>\n",
              "  <tbody>\n",
              "    <tr>\n",
              "      <th>0</th>\n",
              "      <td>One of the other reviewers has mentioned that ...</td>\n",
              "      <td>positive</td>\n",
              "    </tr>\n",
              "    <tr>\n",
              "      <th>1</th>\n",
              "      <td>A wonderful little production. &lt;br /&gt;&lt;br /&gt;The...</td>\n",
              "      <td>positive</td>\n",
              "    </tr>\n",
              "    <tr>\n",
              "      <th>2</th>\n",
              "      <td>I thought this was a wonderful way to spend ti...</td>\n",
              "      <td>positive</td>\n",
              "    </tr>\n",
              "    <tr>\n",
              "      <th>3</th>\n",
              "      <td>Basically there's a family where a little boy ...</td>\n",
              "      <td>negative</td>\n",
              "    </tr>\n",
              "    <tr>\n",
              "      <th>4</th>\n",
              "      <td>Petter Mattei's \"Love in the Time of Money\" is...</td>\n",
              "      <td>positive</td>\n",
              "    </tr>\n",
              "  </tbody>\n",
              "</table>\n",
              "</div>"
            ],
            "text/plain": [
              "                                              review sentiment\n",
              "0  One of the other reviewers has mentioned that ...  positive\n",
              "1  A wonderful little production. <br /><br />The...  positive\n",
              "2  I thought this was a wonderful way to spend ti...  positive\n",
              "3  Basically there's a family where a little boy ...  negative\n",
              "4  Petter Mattei's \"Love in the Time of Money\" is...  positive"
            ]
          },
          "metadata": {},
          "execution_count": 1
        }
      ]
    },
    {
      "cell_type": "code",
      "source": [
        "from google.colab import drive\n",
        "drive.mount('/content/drive')"
      ],
      "metadata": {
        "colab": {
          "base_uri": "https://localhost:8080/"
        },
        "id": "lwu5B4Mco8w4",
        "outputId": "d4a2d8ac-2479-4b8e-d85a-02a2af70f546"
      },
      "execution_count": null,
      "outputs": [
        {
          "output_type": "stream",
          "name": "stdout",
          "text": [
            "Mounted at /content/drive\n"
          ]
        }
      ]
    },
    {
      "cell_type": "markdown",
      "metadata": {
        "id": "ICUC-PvQ5bP2"
      },
      "source": [
        "## Data Exploration:\n",
        "- Number of samples\n",
        "- Number of classes of the target variable\n",
        "- Number of words per sample\n",
        "- Distribution of sample length\n",
        "- Something else: get creative :) "
      ]
    },
    {
      "cell_type": "code",
      "metadata": {
        "id": "9kkCmgdf5ZqB",
        "colab": {
          "base_uri": "https://localhost:8080/",
          "height": 352
        },
        "outputId": "950a56a0-9722-4b94-f971-2581885ced6c"
      },
      "source": [
        "import matplotlib.pyplot as plt\n",
        "import numpy as np\n",
        "## Use cells here to explore the data:\n",
        "#number of samples \n",
        "print(data.count()) #50,000 samples\n",
        "\n",
        "#number of classes of the target variable sentiment\n",
        "data['sentiment'].unique() #either positive or negative\n",
        "\n",
        "#number of words per sample # full disclosure i got this code from stacks overflow \n",
        "data['Avg_length'] = data[\"review\"].apply(lambda x: len(x.split()))\n",
        "print(sum(data['Avg_length'])/len(data['Avg_length']))\n",
        "\n",
        "plt.hist(data['Avg_length'])  \n",
        "plt.show()\n",
        "\n",
        "max(data['Avg_length']) # this is a crazy long review. They mustve been really passionate haha"
      ],
      "execution_count": 2,
      "outputs": [
        {
          "output_type": "stream",
          "name": "stdout",
          "text": [
            "review       50000\n",
            "sentiment    50000\n",
            "dtype: int64\n",
            "231.15694\n"
          ]
        },
        {
          "output_type": "display_data",
          "data": {
            "image/png": "[encoded data removed]",
            "text/plain": [
              "<Figure size 432x288 with 1 Axes>"
            ]
          },
          "metadata": {
            "needs_background": "light"
          }
        },
        {
          "output_type": "execute_result",
          "data": {
            "text/plain": [
              "2470"
            ]
          },
          "metadata": {},
          "execution_count": 2
        }
      ]
    },
    {
      "cell_type": "markdown",
      "metadata": {
        "id": "RjUVTjZzX8Zt"
      },
      "source": [
        "First, i printed the amount of samples, which is 50,000. Then, I looked to see what the unique sentiments are, and it is Positive and Negative, which makes sense. After that, I made a new column of the number of words in each review, and took the average of that list. I then graphed it, and you can see that the majority of the reviews are pretty short (i.e. below 250 words). For fun I found the longest review which was 2470 words. Doubt anyone would write a review that long if they liked the movie so Im going to assume its a bad one haha! "
      ]
    },
    {
      "cell_type": "markdown",
      "metadata": {
        "id": "ZSuguZ6u5lUl"
      },
      "source": [
        "## Data Preparation\n",
        "\n",
        "I'm providing you with code that cleans the reviews by making it all lowercase letters and removing stop words. The three cells below do this for you. I still want you to explain what you did with the data here. "
      ]
    },
    {
      "cell_type": "code",
      "metadata": {
        "colab": {
          "base_uri": "https://localhost:8080/"
        },
        "id": "YV4FfvLegTSh",
        "outputId": "566ade0d-33d7-448b-b97a-75ded6b4a008"
      },
      "source": [
        "from bs4 import BeautifulSoup\n",
        "import re\n",
        "import nltk\n",
        "#only do next line once\n",
        "nltk.download() #in Corpora tab, download stopwords\n",
        "from nltk.corpus import stopwords\n",
        "from sklearn.model_selection import train_test_split\n",
        "#The NLTK downloader will open, you need to select (d) for Download, and then 'stopwords'then (q) to quit"
      ],
      "execution_count": 3,
      "outputs": [
        {
          "name": "stdout",
          "output_type": "stream",
          "text": [
            "NLTK Downloader\n",
            "---------------------------------------------------------------------------\n",
            "    d) Download   l) List    u) Update   c) Config   h) Help   q) Quit\n",
            "---------------------------------------------------------------------------\n",
            "Downloader> d\n",
            "\n",
            "Download which package (l=list; x=cancel)?\n",
            "  Identifier> stopwords\n",
            "    Downloading package stopwords to /root/nltk_data...\n",
            "      Unzipping corpora/stopwords.zip.\n",
            "\n",
            "---------------------------------------------------------------------------\n",
            "    d) Download   l) List    u) Update   c) Config   h) Help   q) Quit\n",
            "---------------------------------------------------------------------------\n",
            "Downloader> q\n"
          ]
        }
      ]
    },
    {
      "cell_type": "code",
      "metadata": {
        "id": "tTEr6vRUgOUs"
      },
      "source": [
        "#This is a function that takes in a review, makes sure it is only lower case letters and removes stopwords.\n",
        "#It returns the cleaned review text.\n",
        "def clean_review(review):\n",
        "    #input is a string review\n",
        "    #return is review cleaned of all punctuation, lowercase, and removed nltk stopwords\n",
        "    letters_only = re.sub(\"[^a-zA-Z]\",\" \",review)\n",
        "    lower_case = letters_only.lower()\n",
        "    words = lower_case.split()\n",
        "    for stop_word in stopwords.words(\"english\"):\n",
        "        while stop_word in words:\n",
        "            words.remove(stop_word)\n",
        "    cleaned = \" \".join(words)\n",
        "    return cleaned"
      ],
      "execution_count": 4,
      "outputs": []
    },
    {
      "cell_type": "code",
      "metadata": {
        "id": "QEjHsILZgk9V"
      },
      "source": [
        "#process the data\n",
        "cleaned_text = []\n",
        "for i in range(len(data)):\n",
        "    cleaned_text.append(clean_review(data[\"review\"][i]))  "
      ],
      "execution_count": 5,
      "outputs": []
    },
    {
      "cell_type": "code",
      "metadata": {
        "colab": {
          "base_uri": "https://localhost:8080/"
        },
        "id": "LMg3P0ZNBvGM",
        "outputId": "4020bc7b-4abc-4ed5-99d1-8040cf4c3e7f"
      },
      "source": [
        "cleaned_text[:5]"
      ],
      "execution_count": 6,
      "outputs": [
        {
          "output_type": "execute_result",
          "data": {
            "text/plain": [
              "['one reviewers mentioned watching oz episode hooked right exactly happened br br first thing struck oz brutality unflinching scenes violence set right word go trust show faint hearted timid show pulls punches regards drugs sex violence hardcore classic use word br br called oz nickname given oswald maximum security state penitentary focuses mainly emerald city experimental section prison cells glass fronts face inwards privacy high agenda em city home many aryans muslims gangstas latinos christians italians irish scuffles death stares dodgy dealings shady agreements never far away br br would say main appeal show due fact goes shows dare forget pretty pictures painted mainstream audiences forget charm forget romance oz mess around first episode ever saw struck nasty surreal say ready watched developed taste oz got accustomed high levels graphic violence violence injustice crooked guards sold nickel inmates kill order get away well mannered middle class inmates turned prison bitches due lack street skills prison experience watching oz may become comfortable uncomfortable viewing thats get touch darker side',\n",
              " 'wonderful little production br br filming technique unassuming old time bbc fashion gives comforting sometimes discomforting sense realism entire piece br br actors extremely well chosen michael sheen got polari voices pat truly see seamless editing guided references williams diary entries well worth watching terrificly written performed piece masterful production one great master comedy life br br realism really comes home little things fantasy guard rather use traditional dream techniques remains solid disappears plays knowledge senses particularly scenes concerning orton halliwell sets particularly flat halliwell murals decorating every surface terribly well done',\n",
              " 'thought wonderful way spend time hot summer weekend sitting air conditioned theater watching light hearted comedy plot simplistic dialogue witty characters likable even well bread suspected serial killer may disappointed realize match point risk addiction thought proof woody allen still fully control style many us grown love br br laughed one woody comedies years dare say decade never impressed scarlet johanson managed tone sexy image jumped right average spirited young woman br br may crown jewel career wittier devil wears prada interesting superman great comedy go see friends',\n",
              " 'basically family little boy jake thinks zombie closet parents fighting time br br movie slower soap opera suddenly jake decides become rambo kill zombie br br ok first going make film must decide thriller drama drama movie watchable parents divorcing arguing like real life jake closet totally ruins film expected see boogeyman similar movie instead watched drama meaningless thriller spots br br well playing parents descent dialogs shots jake ignore',\n",
              " 'petter mattei love time money visually stunning film watch mr mattei offers us vivid portrait human relations movie seems telling us money power success people different situations encounter br br variation arthur schnitzler play theme director transfers action present time new york different characters meet connect one connected one way another next person one seems know previous point contact stylishly film sophisticated luxurious look taken see people live world live habitat br br thing one gets souls picture different stages loneliness one inhabits big city exactly best place human relations find sincere fulfillment one discerns case people encounter br br acting good mr mattei direction steve buscemi rosario dawson carol kane michael imperioli adrian grenier rest talented cast make characters come alive br br wish mr mattei good luck await anxiously next work']"
            ]
          },
          "metadata": {},
          "execution_count": 6
        }
      ]
    },
    {
      "cell_type": "code",
      "metadata": {
        "id": "spDgSTvCg9wk"
      },
      "source": [
        "#establish training and testing dataset\n",
        "train_data, test_data, train_sln, test_sln = \\\n",
        "    train_test_split(cleaned_text, data['sentiment'], test_size = 0.2, random_state=0) "
      ],
      "execution_count": 7,
      "outputs": []
    },
    {
      "cell_type": "markdown",
      "metadata": {
        "id": "dF_tc9eedReN"
      },
      "source": [
        "Here, I download a nltk package and choose stopwords to be how the data is minimized. This will remove all stopwords in the dataset. (words like is, a, the, etc.) Then, i use the stopwords package and also make sure the entire thing is in lower case. This performed a big part in cleaning the data. Then, I append the cleaned text back to the review.\n"
      ]
    },
    {
      "cell_type": "markdown",
      "metadata": {
        "id": "-86AHOAkDpge"
      },
      "source": [
        "### Vectorizing the data\n",
        "\n",
        "**CountVectorizer**: Convert a collection of text documents to a matrix of token counts"
      ]
    },
    {
      "cell_type": "code",
      "metadata": {
        "id": "nwmex98NDgqJ"
      },
      "source": [
        "from sklearn.feature_extraction.text import CountVectorizer \n",
        "\n",
        "#Bag of Words with 5000 most common words\n",
        "vectorizer = CountVectorizer(analyzer='word', max_features = 500)\n",
        "#find the right 5000 words\n",
        "vectorizer.fit(train_data)\n",
        "\n",
        "#use the vectorizer to transform review strings into word count vectors \n",
        "train_data_vectors = vectorizer.transform(train_data).toarray()\n",
        "test_data_vectors = vectorizer.transform(test_data).toarray()"
      ],
      "execution_count": 8,
      "outputs": []
    },
    {
      "cell_type": "code",
      "metadata": {
        "id": "uUSQcsLOEAec"
      },
      "source": [
        "## Now use train_data_vectors and test_data_vectors to train/test/tune your sklearn models.\n",
        "from google.colab import drive\n",
        "import pandas as pd\n",
        "import numpy\n",
        "from sklearn.model_selection import train_test_split\n",
        "from sklearn.svm import SVC\n",
        "from sklearn import metrics\n",
        "from sklearn import neural_network\n",
        "\n",
        "import matplotlib.pyplot as plt\n",
        "from itertools import product\n",
        "from sklearn.linear_model import Perceptron\n",
        "from sklearn.linear_model import SGDClassifier\n",
        "%matplotlib inline"
      ],
      "execution_count": 9,
      "outputs": []
    },
    {
      "cell_type": "markdown",
      "metadata": {
        "id": "qQT73wNkeFyA"
      },
      "source": [
        "##Metrics\n",
        "accuracy and confusion matrices"
      ]
    },
    {
      "cell_type": "markdown",
      "metadata": {
        "id": "FYIKc2aCeHyf"
      },
      "source": [
        "##Model Planning and Execution\n",
        "-Default SVC, try to tune the kernel, try linear most likely. \\\n",
        "-Default Perceptron \\\n",
        "-Tuned pereptron, going to try tuning the penalty, shuffle, and learning rate\\\n",
        "-Multilayer Perceptron \\\n",
        "-Tuned Multilayer Perceptron, going to try all the different activations, learning rate, and early stopping\\\n",
        "-Principal Component Analysis"
      ]
    },
    {
      "cell_type": "code",
      "metadata": {
        "id": "A2wRJtLBelEg",
        "outputId": "be1d39c0-dbdb-4115-8298-8b0f69c514ea",
        "colab": {
          "base_uri": "https://localhost:8080/"
        }
      },
      "source": [
        "#Default SVC\n",
        "clf = SVC()\n",
        "clf.fit(train_data_vectors,train_sln)\n",
        "predictions = clf.predict(test_data_vectors)\n",
        "\n",
        "#output accuracy\n",
        "print(\"accuracy:\", metrics.accuracy_score(test_sln, predictions))\n",
        "vals = data['sentiment'].unique() ## possible classification values\n",
        "conf_mat = metrics.confusion_matrix(test_sln, predictions, labels=vals)\n",
        "print(pd.DataFrame(conf_mat, index = \"T \" + vals, columns = \"Pred \" + vals))"
      ],
      "execution_count": 10,
      "outputs": [
        {
          "output_type": "stream",
          "name": "stdout",
          "text": [
            "accuracy: 0.8307\n",
            "            Pred positive  Pred negative\n",
            "T positive           4203            762\n",
            "T negative            931           4104\n"
          ]
        }
      ]
    },
    {
      "cell_type": "markdown",
      "metadata": {
        "id": "3zWkMFQ1iVuR"
      },
      "source": [
        "###Perceptron "
      ]
    },
    {
      "cell_type": "code",
      "metadata": {
        "id": "o_9H-K3cidCM",
        "colab": {
          "base_uri": "https://localhost:8080/"
        },
        "outputId": "6f12d229-4fa5-4633-f826-94d70f685b58"
      },
      "source": [
        "#Default Perceptron\n",
        "dperc = Perceptron()\n",
        "dperc.fit(train_data_vectors,train_sln)\n",
        "predictions = dperc.predict(test_data_vectors)\n",
        "\n",
        "#output accuracy\n",
        "print(\"accuracy:\", metrics.accuracy_score(test_sln, predictions))\n",
        "vals = data['sentiment'].unique() ## possible classification values\n",
        "conf_mat = metrics.confusion_matrix(test_sln, predictions, labels=vals)\n",
        "print(pd.DataFrame(conf_mat, index = \"T \" + vals, columns = \"Pred \" + vals))\n",
        "\n"
      ],
      "execution_count": null,
      "outputs": [
        {
          "output_type": "stream",
          "name": "stdout",
          "text": [
            "accuracy: 0.7841\n",
            "            Pred positive  Pred negative\n",
            "T positive           4097            868\n",
            "T negative           1291           3744\n"
          ]
        }
      ]
    },
    {
      "cell_type": "code",
      "metadata": {
        "id": "25Fuc2fzigIR",
        "colab": {
          "base_uri": "https://localhost:8080/"
        },
        "outputId": "fd208374-11a2-481b-dbda-f2b9ae848f31"
      },
      "source": [
        "#Tuned Perceptron\n",
        "tperc = Perceptron(penalty = 'l2', shuffle = False)\n",
        "tperc.fit(train_data_vectors,train_sln)\n",
        "predictions = tperc.predict(test_data_vectors)\n",
        "\n",
        "#output accuracy\n",
        "print(\"accuracy:\", metrics.accuracy_score(test_sln, predictions))\n",
        "vals = data['sentiment'].unique() ## possible classification values\n",
        "conf_mat = metrics.confusion_matrix(test_sln, predictions, labels=vals)\n",
        "print(pd.DataFrame(conf_mat, index = \"T \" + vals, columns = \"Pred \" + vals))\n"
      ],
      "execution_count": null,
      "outputs": [
        {
          "output_type": "stream",
          "name": "stdout",
          "text": [
            "accuracy: 0.7742\n",
            "            Pred positive  Pred negative\n",
            "T positive           3587           1378\n",
            "T negative            880           4155\n"
          ]
        }
      ]
    },
    {
      "cell_type": "markdown",
      "source": [
        "## MLP multi layer perceptron"
      ],
      "metadata": {
        "id": "NtgZPRh99j_t"
      }
    },
    {
      "cell_type": "code",
      "source": [
        "mlp = neural_network.MLPClassifier()\n",
        "mlp.fit(train_data_vectors, train_sln)\n",
        "predictions = mlp.predict(test_data_vectors)\n",
        "print(\"accuracy:\", metrics.accuracy_score(test_sln, predictions))\n",
        "vals = data['sentiment'].unique() ## possible classification values\n",
        "conf_mat = metrics.confusion_matrix(test_sln, predictions, labels=vals)\n",
        "print(pd.DataFrame(conf_mat, index = \"T \" + vals, columns = \"Pred \" + vals))"
      ],
      "metadata": {
        "colab": {
          "base_uri": "https://localhost:8080/"
        },
        "id": "R3QpUAn2rnd9",
        "outputId": "e6a48b54-de21-4a4a-feb9-d41e511c5cb8"
      },
      "execution_count": null,
      "outputs": [
        {
          "output_type": "stream",
          "name": "stdout",
          "text": [
            "accuracy: 0.8083\n",
            "            Pred positive  Pred negative\n",
            "T positive           4004            961\n",
            "T negative            956           4079\n"
          ]
        }
      ]
    },
    {
      "cell_type": "code",
      "source": [
        "mlp = neural_network.MLPClassifier(activation = 'tanh',)\n",
        "mlp.fit(train_data_vectors, train_sln)\n",
        "predictions = mlp.predict(test_data_vectors)\n",
        "print(\"accuracy:\", metrics.accuracy_score(test_sln, predictions))\n",
        "vals = data['sentiment'].unique() ## possible classification values\n",
        "conf_mat = metrics.confusion_matrix(test_sln, predictions, labels=vals)\n",
        "print(pd.DataFrame(conf_mat, index = \"T \" + vals, columns = \"Pred \" + vals))"
      ],
      "metadata": {
        "colab": {
          "base_uri": "https://localhost:8080/"
        },
        "id": "rapIi-dEvnPs",
        "outputId": "8549c7ae-be33-4449-a5d3-6fbc050545f3"
      },
      "execution_count": null,
      "outputs": [
        {
          "output_type": "stream",
          "name": "stdout",
          "text": [
            "accuracy: 0.8116\n",
            "            Pred positive  Pred negative\n",
            "T positive           4007            958\n",
            "T negative            926           4109\n"
          ]
        }
      ]
    },
    {
      "cell_type": "markdown",
      "source": [
        "##Principal Compenent Analysis"
      ],
      "metadata": {
        "id": "DYXZNpP7IzSQ"
      }
    },
    {
      "cell_type": "code",
      "source": [
        "#PCA on best model\n",
        "# a couple of models all performed with the same accuracy (only getting one wrong), so i'm going to use the tuned SVC.\n",
        "from sklearn.decomposition import PCA\n",
        "extractor = PCA(n_components = 2, whiten = True)\n",
        "extractor.fit(train_data_vectors)\n",
        "print(extractor.explained_variance_ratio_)\n",
        "\n",
        "train_transformed = extractor.transform(train_data_vectors)\n",
        "test_transformed = extractor.transform(test_data_vectors)\n",
        "\n",
        "mlp = neural_network.MLPClassifier()\n",
        "mlp.fit(train_data_vectors, train_sln)\n",
        "predictions = mlp.predict(test_data_vectors)\n",
        "\n",
        "#output accuracy\n",
        "print(\"accuracy:\", metrics.accuracy_score(test_sln, predictions))\n",
        "vals = data['sentiment'].unique() ## possible classification values\n",
        "conf_mat = metrics.confusion_matrix(test_sln, predictions, labels=vals)\n",
        "print(pd.DataFrame(conf_mat, index = \"T \" + vals, columns = \"Pred \" + vals))\n"
      ],
      "metadata": {
        "id": "OjRPwdrQI4y2",
        "colab": {
          "base_uri": "https://localhost:8080/"
        },
        "outputId": "b1845a09-d819-4b49-cf07-f92110f662d8"
      },
      "execution_count": 15,
      "outputs": [
        {
          "output_type": "stream",
          "name": "stdout",
          "text": [
            "[0.27172574 0.05478849]\n",
            "accuracy: 0.8112\n",
            "            Pred positive  Pred negative\n",
            "T positive           4054            911\n",
            "T negative            977           4058\n"
          ]
        }
      ]
    },
    {
      "cell_type": "markdown",
      "metadata": {
        "id": "bQSLbRzFeNEk"
      },
      "source": [
        "##Bumps in the Road\n",
        "The first bump that i encountered was the loading time for my SVC models. It took up to an hour to load the tuned version. I ended having to remove the tuned version. The perceptrons and multilayer perceptrons worked just fine, however. I did struggle a bit in the beginning too, because I found the max sample, the one with the largest amoutn of words. And i was unable to find the exact location so I could read it, which was the goal. I also struggled throughout to get an accuracy higher than 83%, which is unfortunate. I tried lots of different tuning parameters thought, so I decided to just leave it be. I also struggled to make a quantitative graph that held meaning. I did make one that only had one bar (see below) and then was able to make a fancy confusion matrix. "
      ]
    },
    {
      "cell_type": "markdown",
      "metadata": {
        "id": "LOEhT0fneQNE"
      },
      "source": [
        "##Results\n",
        "Confusion matrices are inlcuded above. Will be making a fancy confusion matrix as well. "
      ]
    },
    {
      "cell_type": "code",
      "source": [
        "plt.hist(metrics.accuracy_score(test_sln, predictions))  \n",
        "plt.show()"
      ],
      "metadata": {
        "colab": {
          "base_uri": "https://localhost:8080/",
          "height": 265
        },
        "id": "OVUK7h8EASDW",
        "outputId": "b6e63a8a-f522-48c2-ae23-1c45028b8bd0"
      },
      "execution_count": null,
      "outputs": [
        {
          "output_type": "display_data",
          "data": {
            "image/png": "[encoded data removed]",
            "text/plain": [
              "<Figure size 432x288 with 1 Axes>"
            ]
          },
          "metadata": {
            "needs_background": "light"
          }
        }
      ]
    },
    {
      "cell_type": "code",
      "source": [
        "import itertools\n",
        "import matplotlib.pyplot as plt\n",
        "import sklearn\n",
        "import pandas\n",
        "from sklearn import tree\n",
        "from sklearn.model_selection import train_test_split\n",
        "from sklearn import metrics\n",
        "from sklearn import neighbors\n",
        "\n",
        "cm=metrics.confusion_matrix(test_sln,predictions)\n",
        "plt.imshow(cm, interpolation='nearest',cmap=plt.cm.Blues)\n",
        "plt.title(\"Decision Tree Confusion Matrix, Iris Data\")\n",
        "plt.colorbar()\n",
        "plt.xticks([0,1], mlp.classes_,rotation=45)\n",
        "plt.yticks([0,1], mlp.classes_)\n",
        "thresh = cm.max() / 2.\n",
        "for i, j in itertools.product(range(cm.shape[0]), range(cm.shape[1])):\n",
        "        plt.text(j, i, format(cm[i, j], '.2f'),\n",
        "                 horizontalalignment=\"center\",\n",
        "                 color=\"white\" if cm[i, j] > thresh else \"black\")\n",
        "plt.ylabel('True label')\n",
        "plt.xlabel('Predicted label')"
      ],
      "metadata": {
        "id": "kMvSuBr7x9JR",
        "outputId": "e0ce02a7-fa47-4ac9-8dc1-284e20425c33",
        "colab": {
          "base_uri": "https://localhost:8080/",
          "height": 340
        }
      },
      "execution_count": 16,
      "outputs": [
        {
          "output_type": "execute_result",
          "data": {
            "text/plain": [
              "Text(0.5, 0, 'Predicted label')"
            ]
          },
          "metadata": {},
          "execution_count": 16
        },
        {
          "output_type": "display_data",
          "data": {
            "image/png": "[encoded data removed]",
            "text/plain": [
              "<Figure size 432x288 with 2 Axes>"
            ]
          },
          "metadata": {
            "needs_background": "light"
          }
        }
      ]
    },
    {
      "cell_type": "markdown",
      "metadata": {
        "id": "5verVST_eYpU"
      },
      "source": [
        "##Conclusions \n",
        "I found it interesting that the accuracy would change on the neural network when I ran it without making changes. It once got up to 83% accuracy and then most recent was 81% accurate. I think these models do a decent job of detecting sentiment on the reviews. My question is how to use the model we made on a new dataset that doesnt have the answers? I was thinking about using a similar algorithm to predicts revenues at my job and I don't know what the next step would be. \\ The best model was the default SVC. This one took very very long to run, and I did have a tuned version that I wanted to work because I was optimistic about an even higher accuracy, but i ran it for over an hour. The webpage ended up timing out so i abandonded that. The worst models were the perceptron and the tuned perceptron. They were at about 77% acuracy. I think the best tuned model was actually .01 worse than the default as well. I would guess that the perceptron one suffered from overfitting, because that can happen easily with those models. I do think these models did well, overall. I'd like to see how these perform on a new dataset as well, possibly with more sentiment options."
      ]
    }
  ]
}