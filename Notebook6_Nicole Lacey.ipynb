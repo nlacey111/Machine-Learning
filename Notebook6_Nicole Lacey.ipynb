{
  "nbformat": 4,
  "nbformat_minor": 0,
  "metadata": {
    "colab": {
      "name": "Notebook6_starter.ipynb",
      "provenance": [],
      "include_colab_link": true
    },
    "kernelspec": {
      "name": "python3",
      "display_name": "Python 3"
    },
    "language_info": {
      "name": "python"
    }
  },
  "cells": [
    {
      "cell_type": "markdown",
      "metadata": {
        "id": "view-in-github",
        "colab_type": "text"
      },
      "source": [
        "<a href=\"https://colab.research.google.com/github/cs167/notebook-6-niclacey/blob/main/Notebook6_Nicole%20Lacey.ipynb\" target=\"_parent\"><img src=\"https://colab.research.google.com/assets/colab-badge.svg\" alt=\"Open In Colab\"/></a>"
      ]
    },
    {
      "cell_type": "markdown",
      "metadata": {
        "id": "XHNyMbAY0QB5"
      },
      "source": [
        "# Notebook \\# 6\n",
        "Name:\n",
        "Date:\n",
        "\n",
        "## Problem Description:\n",
        "\n",
        "\n",
        "\n",
        "### Hints/ Tips Tricks\n",
        "- Don't forget to enable GPUs under 'Edit', 'Notebook Settings', 'Accerlate Hardware', 'GPU'.\n",
        "- Make sure you unzip the data and put it in your Drive.\n"
      ]
    },
    {
      "cell_type": "code",
      "metadata": {
        "id": "c8YdA-9NIguO",
        "outputId": "a425d391-aa46-4ec5-b9f9-e1e3a3a65e65",
        "colab": {
          "base_uri": "https://localhost:8080/"
        }
      },
      "source": [
        "from google.colab import drive\n",
        "drive.mount('/content/drive')"
      ],
      "execution_count": 16,
      "outputs": [
        {
          "output_type": "stream",
          "name": "stdout",
          "text": [
            "Drive already mounted at /content/drive; to attempt to forcibly remount, call drive.mount(\"/content/drive\", force_remount=True).\n"
          ]
        }
      ]
    },
    {
      "cell_type": "code",
      "metadata": {
        "id": "9TyLjTVU0MQr",
        "outputId": "926fe7ef-fc0d-4de9-8379-e532f01e6b6c",
        "colab": {
          "base_uri": "https://localhost:8080/"
        }
      },
      "source": [
        "import keras\n",
        "import tensorflow \n",
        "import sys\n",
        "from matplotlib import pyplot\n",
        "from tensorflow.keras.utils import to_categorical\n",
        "from keras.models import Sequential\n",
        "from keras.layers import Conv2D\n",
        "from keras.layers import MaxPooling2D\n",
        "from keras.layers import Dense\n",
        "from keras.layers import Flatten\n",
        "from tensorflow.keras.optimizers import SGD\n",
        "from keras.preprocessing.image import ImageDataGenerator\n",
        "import sys\n",
        "\n",
        "## Connect to Drive\n",
        "from google.colab import drive\n",
        "import pandas\n",
        "drive.mount('/content/drive')\n",
        "\n",
        "## Image dimensions\n",
        "img_width = 200\n",
        "img_height = 200\n",
        "\n",
        "## Directories for testing and training data\n",
        "train_data_dir = '/content/drive/MyDrive/Datasets/chest_xray/train' \n",
        "test_data_dir = '/content/drive/MyDrive/Datasets/chest_xray/test'\n",
        "\n",
        "## To feed the training images to the neural network in batches of 32 images at a time\n",
        "batch_size = 32\n",
        "\n",
        "## Rescale pixel values from [0, 255] to between 0 and 1\n",
        "datagen = ImageDataGenerator(rescale=1.0/255.0)\n",
        "\n",
        "## Look for training and testing data and figure out the class of each example based on subfolder\n",
        "train_data = datagen.flow_from_directory(\n",
        "        train_data_dir,\n",
        "        target_size=(img_width, img_height),\n",
        "        batch_size=batch_size,\n",
        "        class_mode='binary')\n",
        "\n",
        "test_data = datagen.flow_from_directory(\n",
        "        test_data_dir,\n",
        "        target_size=(img_width, img_height),\n",
        "        batch_size=batch_size,\n",
        "        class_mode='binary')"
      ],
      "execution_count": 2,
      "outputs": [
        {
          "output_type": "stream",
          "name": "stdout",
          "text": [
            "Drive already mounted at /content/drive; to attempt to forcibly remount, call drive.mount(\"/content/drive\", force_remount=True).\n",
            "Found 5216 images belonging to 2 classes.\n",
            "Found 624 images belonging to 2 classes.\n"
          ]
        }
      ]
    },
    {
      "cell_type": "code",
      "metadata": {
        "id": "t_i-Cfa41ZvU"
      },
      "source": [
        "# Build your CNN here\n",
        "import warnings\n",
        "warnings.filterwarnings('ignore')\n",
        "\n",
        "model2 = Sequential()\n",
        "model2.add(Conv2D(32, (3, 3), activation = 'relu', input_shape=(img_width, img_height, 3)))\n",
        "model2.add(MaxPooling2D(pool_size=(2, 2)))\n",
        "\n",
        "model2.add(Conv2D(32, (3, 3),activation = 'relu'))\n",
        "model2.add(MaxPooling2D(pool_size=(2, 2)))\n",
        "\n",
        "model2.add(Flatten())\n",
        "model2.add(Dense(64,activation = 'relu'))\n",
        "model2.add(Dense(1,activation='sigmoid'))\n",
        "\n",
        "# need to compile the model before you can use it\n",
        "opt = SGD(lr=0.001, momentum=0.9)\n",
        "model2.compile(optimizer=opt, loss='binary_crossentropy', metrics=['accuracy'])"
      ],
      "execution_count": 19,
      "outputs": []
    },
    {
      "cell_type": "code",
      "metadata": {
        "id": "XxV4ADsoTmYT",
        "outputId": "5c12a0b5-6855-4386-c708-1bb55c18ff24",
        "colab": {
          "base_uri": "https://localhost:8080/"
        }
      },
      "source": [
        "training_results1 = model2.fit_generator(\n",
        "        train_data, #training set\n",
        "        steps_per_epoch = len(train_data), \n",
        "        epochs=3, #number of epochs \n",
        "        validation_data = test_data, #testing set\n",
        "        validation_steps = len(test_data)\n",
        "        )"
      ],
      "execution_count": 20,
      "outputs": [
        {
          "output_type": "stream",
          "name": "stdout",
          "text": [
            "Epoch 1/3\n",
            "163/163 [==============================] - 202s 1s/step - loss: 0.4044 - accuracy: 0.8250 - val_loss: 0.6352 - val_accuracy: 0.7260\n",
            "Epoch 2/3\n",
            "163/163 [==============================] - 201s 1s/step - loss: 0.1720 - accuracy: 0.9339 - val_loss: 0.9611 - val_accuracy: 0.7051\n",
            "Epoch 3/3\n",
            "163/163 [==============================] - 201s 1s/step - loss: 0.2142 - accuracy: 0.9156 - val_loss: 0.3820 - val_accuracy: 0.8189\n"
          ]
        }
      ]
    },
    {
      "cell_type": "code",
      "metadata": {
        "id": "QsuuIhVeBVIn"
      },
      "source": [
        "from keras.layers import Dropout\n",
        "from keras.layers import BatchNormalization\n",
        "\n",
        "model3 = Sequential()\n",
        "model3.add(Conv2D(32, (3, 3), activation = 'relu', input_shape=(img_width, img_height, 3)))\n",
        "model3.add(MaxPooling2D(pool_size=(2, 2)))\n",
        "\n",
        "model3.add(Conv2D(64, (3, 3),activation = 'relu'))\n",
        "model3.add(BatchNormalization())\n",
        "model3.add(MaxPooling2D(pool_size=(2, 2)))\n",
        "\n",
        "model3.add(Conv2D(64, (3,3), activation = 'relu'))\n",
        "model3.add(BatchNormalization())\n",
        "model3.add(MaxPooling2D(pool_size= (2,2)))\n",
        "\n",
        "model3.add(Flatten())\n",
        "model3.add(Dense(64,activation = 'relu'))\n",
        "model3.add(Dense(1,activation='sigmoid'))\n",
        "\n",
        "# need to compile the model before you can use it\n",
        "opt = SGD(lr=0.001, momentum=0.9)\n",
        "model3.compile(optimizer=opt, loss='binary_crossentropy', metrics=['accuracy'])\n",
        "early_stopping_cb = tensorflow.keras.callbacks.EarlyStopping(patience=10, restore_best_weights=True)"
      ],
      "execution_count": 13,
      "outputs": []
    },
    {
      "cell_type": "code",
      "metadata": {
        "id": "eKnjkdQdL-TM",
        "outputId": "f3209b33-5bfc-4589-ea3b-26d6f59e1c61",
        "colab": {
          "base_uri": "https://localhost:8080/"
        }
      },
      "source": [
        "training_results = model3.fit_generator(\n",
        "        train_data, #training set\n",
        "        steps_per_epoch = len(train_data), \n",
        "        epochs=15, #number of epochs \n",
        "        validation_data = test_data, #testing set\n",
        "        validation_steps = len(test_data)\n",
        "        )"
      ],
      "execution_count": 17,
      "outputs": [
        {
          "output_type": "stream",
          "name": "stdout",
          "text": [
            "Epoch 1/15\n",
            "163/163 [==============================] - 334s 2s/step - loss: 0.0491 - accuracy: 0.9803 - val_loss: 1.2894 - val_accuracy: 0.6635\n",
            "Epoch 2/15\n",
            "163/163 [==============================] - 334s 2s/step - loss: 0.0278 - accuracy: 0.9896 - val_loss: 1.8804 - val_accuracy: 0.6907\n",
            "Epoch 3/15\n",
            "163/163 [==============================] - 333s 2s/step - loss: 0.0166 - accuracy: 0.9950 - val_loss: 1.1514 - val_accuracy: 0.7500\n",
            "Epoch 4/15\n",
            "163/163 [==============================] - 333s 2s/step - loss: 0.0096 - accuracy: 0.9973 - val_loss: 0.9575 - val_accuracy: 0.7821\n",
            "Epoch 5/15\n",
            "163/163 [==============================] - 333s 2s/step - loss: 0.0066 - accuracy: 0.9988 - val_loss: 0.9418 - val_accuracy: 0.8173\n",
            "Epoch 6/15\n",
            "163/163 [==============================] - 333s 2s/step - loss: 0.0032 - accuracy: 1.0000 - val_loss: 1.3980 - val_accuracy: 0.7853\n",
            "Epoch 7/15\n",
            "163/163 [==============================] - 333s 2s/step - loss: 0.0018 - accuracy: 1.0000 - val_loss: 2.3476 - val_accuracy: 0.7035\n",
            "Epoch 8/15\n",
            "163/163 [==============================] - 333s 2s/step - loss: 0.0014 - accuracy: 1.0000 - val_loss: 1.7253 - val_accuracy: 0.7644\n",
            "Epoch 9/15\n",
            "163/163 [==============================] - 333s 2s/step - loss: 0.0011 - accuracy: 1.0000 - val_loss: 1.6006 - val_accuracy: 0.7772\n",
            "Epoch 10/15\n",
            "163/163 [==============================] - 332s 2s/step - loss: 9.3671e-04 - accuracy: 1.0000 - val_loss: 1.6572 - val_accuracy: 0.7772\n",
            "Epoch 11/15\n",
            "163/163 [==============================] - 333s 2s/step - loss: 8.0475e-04 - accuracy: 1.0000 - val_loss: 1.8859 - val_accuracy: 0.7612\n",
            "Epoch 12/15\n",
            "163/163 [==============================] - 333s 2s/step - loss: 7.4084e-04 - accuracy: 1.0000 - val_loss: 1.9096 - val_accuracy: 0.7612\n",
            "Epoch 13/15\n",
            "163/163 [==============================] - 333s 2s/step - loss: 6.8783e-04 - accuracy: 1.0000 - val_loss: 1.6953 - val_accuracy: 0.7837\n",
            "Epoch 14/15\n",
            "163/163 [==============================] - 334s 2s/step - loss: 6.7518e-04 - accuracy: 1.0000 - val_loss: 1.8898 - val_accuracy: 0.7644\n",
            "Epoch 15/15\n",
            "163/163 [==============================] - 333s 2s/step - loss: 5.6156e-04 - accuracy: 1.0000 - val_loss: 2.0997 - val_accuracy: 0.7548\n"
          ]
        }
      ]
    },
    {
      "cell_type": "code",
      "metadata": {
        "id": "N9FsRvBNweXB",
        "outputId": "704de76b-1a5a-4ea5-c948-49188721ec9d",
        "colab": {
          "base_uri": "https://localhost:8080/",
          "height": 295
        }
      },
      "source": [
        "import matplotlib.pyplot as plt\n",
        "%matplotlib inline\n",
        "plt.plot(training_results.history['accuracy'])\n",
        "plt.plot(training_results.history['val_accuracy'])\n",
        "plt.title('model accuracy')\n",
        "plt.ylabel('accuracy')\n",
        "plt.xlabel('epoch')\n",
        "plt.legend(['train', 'test'], loc='upper left')\n",
        "plt.show()\n"
      ],
      "execution_count": 18,
      "outputs": [
        {
          "output_type": "display_data",
          "data": {
            "image/png": "[encoded data removed]",
            "text/plain": [
              "<Figure size 432x288 with 1 Axes>"
            ]
          },
          "metadata": {
            "needs_background": "light"
          }
        }
      ]
    },
    {
      "cell_type": "code",
      "metadata": {
        "id": "k-FBjnPMLGPv",
        "outputId": "b6e99bde-fbd9-4981-f5c4-a9787ae8e1ab",
        "colab": {
          "base_uri": "https://localhost:8080/",
          "height": 295
        }
      },
      "source": [
        "import matplotlib.pyplot as plt\n",
        "%matplotlib inline\n",
        "plt.plot(training_results1.history['accuracy'])\n",
        "plt.plot(training_results1.history['val_accuracy'])\n",
        "plt.title('model accuracy')\n",
        "plt.ylabel('accuracy')\n",
        "plt.xlabel('epoch')\n",
        "plt.legend(['train', 'test'], loc='upper left')\n",
        "plt.show()"
      ],
      "execution_count": 21,
      "outputs": [
        {
          "output_type": "display_data",
          "data": {
            "image/png": "[encoded data removed]",
            "text/plain": [
              "<Figure size 432x288 with 1 Axes>"
            ]
          },
          "metadata": {
            "needs_background": "light"
          }
        }
      ]
    },
    {
      "cell_type": "markdown",
      "metadata": {
        "id": "w4Y08U_kNcz8"
      },
      "source": [
        "In the second model I added batch normalization and an extra layer of conv and pool. I also added early stopping because it marginally improved the accuracys (prevents overfitting). I also did a lot more epochs- 15. By the graph I should have stopped at 4 for maximum accuracy so this model does suffer from over fitting. The first model I did doesn't have a peak, which means I could probably have used that one and used a higher epoch. I did experiment with dropout layers but they made the model worse so I ended up leaving it out. They both ended up with very similar highest accuracys (81%). "
      ]
    }
  ]
}