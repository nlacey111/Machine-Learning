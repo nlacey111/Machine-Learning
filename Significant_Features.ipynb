{
  "nbformat": 4,
  "nbformat_minor": 0,
  "metadata": {
    "colab": {
      "name": "Copy of Project1_starter.ipynb",
      "provenance": [],
      "include_colab_link": true
    },
    "kernelspec": {
      "name": "python3",
      "display_name": "Python 3"
    }
  },
  "cells": [
    {
      "cell_type": "markdown",
      "metadata": {
        "id": "view-in-github",
        "colab_type": "text"
      },
      "source": [
        "<a href=\"https://colab.research.google.com/github/cs167/project-1-niclacey/blob/main/FINAL_Project1_Nicole%20Lacey.ipynb\" target=\"_parent\"><img src=\"https://colab.research.google.com/assets/colab-badge.svg\" alt=\"Open In Colab\"/></a>"
      ]
    },
    {
      "cell_type": "markdown",
      "metadata": {
        "id": "aG0_H2OSeH7w"
      },
      "source": [
        "**Name:** Nicole Lacey"
      ]
    },
    {
      "cell_type": "markdown",
      "metadata": {
        "id": "F9AOhxuO9Vt7"
      },
      "source": [
        "# Project \\#1 Starter Code: \n",
        "Your first step is to decide which dataset you would like to work with for this project. You can find the data on Blackboard. \n",
        "\n",
        "The options include: \n",
        "- [Ramen Ratings](https://www.kaggle.com/residentmario/ramen-ratings)\n",
        "- [Chocolate Ratings](https://www.kaggle.com/rtatman/chocolate-bar-ratings)\n",
        "- [World Happiness Data](https://www.kaggle.com/unsdsn/world-happiness)\n",
        "- [Heart Failure Prediction](https://www.kaggle.com/fedesoriano/heart-failure-prediction)\n",
        "\n",
        "Let's start by taking a look at these different datasets. (you can get rid of this once you decide which one you want to use). "
      ]
    },
    {
      "cell_type": "code",
      "metadata": {
        "colab": {
          "base_uri": "https://localhost:8080/",
          "height": 238
        },
        "id": "5N97IBe79Mfp",
        "outputId": "b723ab2e-4d48-4773-a334-614f053a1375"
      },
      "source": [
        "from google.colab import drive\n",
        "import pandas as pd\n",
        "drive.mount('/content/drive')\n",
        "hap =pd.read_csv('/content/drive/MyDrive/Datasets/happiness_data.csv')\n",
        "hap.head()"
      ],
      "execution_count": 1,
      "outputs": [
        {
          "output_type": "stream",
          "name": "stdout",
          "text": [
            "Mounted at /content/drive\n"
          ]
        },
        {
          "output_type": "execute_result",
          "data": {
            "text/html": [
              "<div>\n",
              "<style scoped>\n",
              "    .dataframe tbody tr th:only-of-type {\n",
              "        vertical-align: middle;\n",
              "    }\n",
              "\n",
              "    .dataframe tbody tr th {\n",
              "        vertical-align: top;\n",
              "    }\n",
              "\n",
              "    .dataframe thead th {\n",
              "        text-align: right;\n",
              "    }\n",
              "</style>\n",
              "<table border=\"1\" class=\"dataframe\">\n",
              "  <thead>\n",
              "    <tr style=\"text-align: right;\">\n",
              "      <th></th>\n",
              "      <th>Overall rank</th>\n",
              "      <th>Year</th>\n",
              "      <th>Country or region</th>\n",
              "      <th>Score</th>\n",
              "      <th>GDP per capita</th>\n",
              "      <th>Social support and Family</th>\n",
              "      <th>Healthy life expectancy</th>\n",
              "      <th>Freedom to make life choices</th>\n",
              "      <th>Generosity</th>\n",
              "      <th>Perceptions of corruption</th>\n",
              "    </tr>\n",
              "  </thead>\n",
              "  <tbody>\n",
              "    <tr>\n",
              "      <th>0</th>\n",
              "      <td>1</td>\n",
              "      <td>2018</td>\n",
              "      <td>Finland</td>\n",
              "      <td>7.632</td>\n",
              "      <td>1.305</td>\n",
              "      <td>1.592</td>\n",
              "      <td>0.874</td>\n",
              "      <td>0.681</td>\n",
              "      <td>0.202</td>\n",
              "      <td>0.393</td>\n",
              "    </tr>\n",
              "    <tr>\n",
              "      <th>1</th>\n",
              "      <td>2</td>\n",
              "      <td>2018</td>\n",
              "      <td>Norway</td>\n",
              "      <td>7.594</td>\n",
              "      <td>1.456</td>\n",
              "      <td>1.582</td>\n",
              "      <td>0.861</td>\n",
              "      <td>0.686</td>\n",
              "      <td>0.286</td>\n",
              "      <td>0.340</td>\n",
              "    </tr>\n",
              "    <tr>\n",
              "      <th>2</th>\n",
              "      <td>3</td>\n",
              "      <td>2018</td>\n",
              "      <td>Denmark</td>\n",
              "      <td>7.555</td>\n",
              "      <td>1.351</td>\n",
              "      <td>1.590</td>\n",
              "      <td>0.868</td>\n",
              "      <td>0.683</td>\n",
              "      <td>0.284</td>\n",
              "      <td>0.408</td>\n",
              "    </tr>\n",
              "    <tr>\n",
              "      <th>3</th>\n",
              "      <td>4</td>\n",
              "      <td>2018</td>\n",
              "      <td>Iceland</td>\n",
              "      <td>7.495</td>\n",
              "      <td>1.343</td>\n",
              "      <td>1.644</td>\n",
              "      <td>0.914</td>\n",
              "      <td>0.677</td>\n",
              "      <td>0.353</td>\n",
              "      <td>0.138</td>\n",
              "    </tr>\n",
              "    <tr>\n",
              "      <th>4</th>\n",
              "      <td>5</td>\n",
              "      <td>2018</td>\n",
              "      <td>Switzerland</td>\n",
              "      <td>7.487</td>\n",
              "      <td>1.420</td>\n",
              "      <td>1.549</td>\n",
              "      <td>0.927</td>\n",
              "      <td>0.660</td>\n",
              "      <td>0.256</td>\n",
              "      <td>0.357</td>\n",
              "    </tr>\n",
              "  </tbody>\n",
              "</table>\n",
              "</div>"
            ],
            "text/plain": [
              "   Overall rank  Year  ... Generosity  Perceptions of corruption\n",
              "0             1  2018  ...      0.202                      0.393\n",
              "1             2  2018  ...      0.286                      0.340\n",
              "2             3  2018  ...      0.284                      0.408\n",
              "3             4  2018  ...      0.353                      0.138\n",
              "4             5  2018  ...      0.256                      0.357\n",
              "\n",
              "[5 rows x 10 columns]"
            ]
          },
          "metadata": {},
          "execution_count": 1
        }
      ]
    },
    {
      "cell_type": "markdown",
      "metadata": {
        "id": "7SfueFgsNdNt"
      },
      "source": [
        "# Problem: \n",
        "Which dataset are you going to use? What questions are you going to ask about this dataset? Make sure that you can answer the question using ML models. What are your predictor variables and target variable?"
      ]
    },
    {
      "cell_type": "markdown",
      "metadata": {
        "id": "6IWx7uDqYFbc"
      },
      "source": [
        "I am going to use the **happiness** dataset. My target variable is **Score**, and my predictors are everything but Score and Country. I want to know if there is a significant feature in this, or if all of the predictors contribute equally. I will be able to see this based on how well a **tree performs vs. a knn algorithm**. I also want to know how accurate my model is, so I will use **MAE** and **MSE** to see how well it does. "
      ]
    },
    {
      "cell_type": "markdown",
      "metadata": {
        "id": "yM_lNmrrNw6S"
      },
      "source": [
        "# Data Preparation\n",
        "Explain your data prep. What did you do to get your data in the shape for your experiments? (e.g. creation of dummy variables, filling in missing values, etc). "
      ]
    },
    {
      "cell_type": "markdown",
      "metadata": {
        "id": "OlBFlXGHbA7p"
      },
      "source": [
        "First, I looked at which columns have missing data. Only one has missing data, so I am going to **create dummy variables** where needed and then put the mean for missing values in **perceptions of corruption**. \n",
        "Note: It turns out no dummy variables are needed. "
      ]
    },
    {
      "cell_type": "code",
      "metadata": {
        "colab": {
          "base_uri": "https://localhost:8080/"
        },
        "id": "GyNMqAKCdIbr",
        "outputId": "f0d78359-cde7-470c-f0b1-37dadcf1fb2e"
      },
      "source": [
        "print(hap.isna().any())"
      ],
      "execution_count": 2,
      "outputs": [
        {
          "output_type": "stream",
          "name": "stdout",
          "text": [
            "Overall rank                    False\n",
            "Year                            False\n",
            "Country or region               False\n",
            "Score                           False\n",
            "GDP per capita                  False\n",
            "Social support and Family       False\n",
            "Healthy life expectancy         False\n",
            "Freedom to make life choices    False\n",
            "Generosity                      False\n",
            "Perceptions of corruption        True\n",
            "dtype: bool\n"
          ]
        }
      ]
    },
    {
      "cell_type": "code",
      "metadata": {
        "colab": {
          "base_uri": "https://localhost:8080/",
          "height": 221
        },
        "id": "LLn1FBhicSET",
        "outputId": "cdecc2d9-3c7e-41ba-c360-9bcf742426b7"
      },
      "source": [
        "hap.head()"
      ],
      "execution_count": 3,
      "outputs": [
        {
          "output_type": "execute_result",
          "data": {
            "text/html": [
              "<div>\n",
              "<style scoped>\n",
              "    .dataframe tbody tr th:only-of-type {\n",
              "        vertical-align: middle;\n",
              "    }\n",
              "\n",
              "    .dataframe tbody tr th {\n",
              "        vertical-align: top;\n",
              "    }\n",
              "\n",
              "    .dataframe thead th {\n",
              "        text-align: right;\n",
              "    }\n",
              "</style>\n",
              "<table border=\"1\" class=\"dataframe\">\n",
              "  <thead>\n",
              "    <tr style=\"text-align: right;\">\n",
              "      <th></th>\n",
              "      <th>Overall rank</th>\n",
              "      <th>Year</th>\n",
              "      <th>Country or region</th>\n",
              "      <th>Score</th>\n",
              "      <th>GDP per capita</th>\n",
              "      <th>Social support and Family</th>\n",
              "      <th>Healthy life expectancy</th>\n",
              "      <th>Freedom to make life choices</th>\n",
              "      <th>Generosity</th>\n",
              "      <th>Perceptions of corruption</th>\n",
              "    </tr>\n",
              "  </thead>\n",
              "  <tbody>\n",
              "    <tr>\n",
              "      <th>0</th>\n",
              "      <td>1</td>\n",
              "      <td>2018</td>\n",
              "      <td>Finland</td>\n",
              "      <td>7.632</td>\n",
              "      <td>1.305</td>\n",
              "      <td>1.592</td>\n",
              "      <td>0.874</td>\n",
              "      <td>0.681</td>\n",
              "      <td>0.202</td>\n",
              "      <td>0.393</td>\n",
              "    </tr>\n",
              "    <tr>\n",
              "      <th>1</th>\n",
              "      <td>2</td>\n",
              "      <td>2018</td>\n",
              "      <td>Norway</td>\n",
              "      <td>7.594</td>\n",
              "      <td>1.456</td>\n",
              "      <td>1.582</td>\n",
              "      <td>0.861</td>\n",
              "      <td>0.686</td>\n",
              "      <td>0.286</td>\n",
              "      <td>0.340</td>\n",
              "    </tr>\n",
              "    <tr>\n",
              "      <th>2</th>\n",
              "      <td>3</td>\n",
              "      <td>2018</td>\n",
              "      <td>Denmark</td>\n",
              "      <td>7.555</td>\n",
              "      <td>1.351</td>\n",
              "      <td>1.590</td>\n",
              "      <td>0.868</td>\n",
              "      <td>0.683</td>\n",
              "      <td>0.284</td>\n",
              "      <td>0.408</td>\n",
              "    </tr>\n",
              "    <tr>\n",
              "      <th>3</th>\n",
              "      <td>4</td>\n",
              "      <td>2018</td>\n",
              "      <td>Iceland</td>\n",
              "      <td>7.495</td>\n",
              "      <td>1.343</td>\n",
              "      <td>1.644</td>\n",
              "      <td>0.914</td>\n",
              "      <td>0.677</td>\n",
              "      <td>0.353</td>\n",
              "      <td>0.138</td>\n",
              "    </tr>\n",
              "    <tr>\n",
              "      <th>4</th>\n",
              "      <td>5</td>\n",
              "      <td>2018</td>\n",
              "      <td>Switzerland</td>\n",
              "      <td>7.487</td>\n",
              "      <td>1.420</td>\n",
              "      <td>1.549</td>\n",
              "      <td>0.927</td>\n",
              "      <td>0.660</td>\n",
              "      <td>0.256</td>\n",
              "      <td>0.357</td>\n",
              "    </tr>\n",
              "  </tbody>\n",
              "</table>\n",
              "</div>"
            ],
            "text/plain": [
              "   Overall rank  Year  ... Generosity  Perceptions of corruption\n",
              "0             1  2018  ...      0.202                      0.393\n",
              "1             2  2018  ...      0.286                      0.340\n",
              "2             3  2018  ...      0.284                      0.408\n",
              "3             4  2018  ...      0.353                      0.138\n",
              "4             5  2018  ...      0.256                      0.357\n",
              "\n",
              "[5 rows x 10 columns]"
            ]
          },
          "metadata": {},
          "execution_count": 3
        }
      ]
    },
    {
      "cell_type": "markdown",
      "metadata": {
        "id": "l5nj8HyyJixp"
      },
      "source": [
        "I am realizing that there is one country for every score, so I am just not going to use that column at all. It's not necessary to guess the score. "
      ]
    },
    {
      "cell_type": "code",
      "metadata": {
        "id": "QF9XAeaDd_d1",
        "colab": {
          "base_uri": "https://localhost:8080/",
          "height": 300
        },
        "outputId": "0102c07f-b4ed-42a6-a8e7-c32a51294ded"
      },
      "source": [
        "#Filling in missing values with the average\n",
        "corrupt_mean = hap['Perceptions of corruption'].mean()\n",
        "hap['Perceptions of corruption'].fillna(corrupt_mean, inplace=True)\n",
        "print(\"after: \", hap['Perceptions of corruption'].isna().any())\n",
        "hap.head(7)\n"
      ],
      "execution_count": 4,
      "outputs": [
        {
          "output_type": "stream",
          "name": "stdout",
          "text": [
            "after:  False\n"
          ]
        },
        {
          "output_type": "execute_result",
          "data": {
            "text/html": [
              "<div>\n",
              "<style scoped>\n",
              "    .dataframe tbody tr th:only-of-type {\n",
              "        vertical-align: middle;\n",
              "    }\n",
              "\n",
              "    .dataframe tbody tr th {\n",
              "        vertical-align: top;\n",
              "    }\n",
              "\n",
              "    .dataframe thead th {\n",
              "        text-align: right;\n",
              "    }\n",
              "</style>\n",
              "<table border=\"1\" class=\"dataframe\">\n",
              "  <thead>\n",
              "    <tr style=\"text-align: right;\">\n",
              "      <th></th>\n",
              "      <th>Overall rank</th>\n",
              "      <th>Year</th>\n",
              "      <th>Country or region</th>\n",
              "      <th>Score</th>\n",
              "      <th>GDP per capita</th>\n",
              "      <th>Social support and Family</th>\n",
              "      <th>Healthy life expectancy</th>\n",
              "      <th>Freedom to make life choices</th>\n",
              "      <th>Generosity</th>\n",
              "      <th>Perceptions of corruption</th>\n",
              "    </tr>\n",
              "  </thead>\n",
              "  <tbody>\n",
              "    <tr>\n",
              "      <th>0</th>\n",
              "      <td>1</td>\n",
              "      <td>2018</td>\n",
              "      <td>Finland</td>\n",
              "      <td>7.632</td>\n",
              "      <td>1.305</td>\n",
              "      <td>1.592</td>\n",
              "      <td>0.874</td>\n",
              "      <td>0.681</td>\n",
              "      <td>0.202</td>\n",
              "      <td>0.393</td>\n",
              "    </tr>\n",
              "    <tr>\n",
              "      <th>1</th>\n",
              "      <td>2</td>\n",
              "      <td>2018</td>\n",
              "      <td>Norway</td>\n",
              "      <td>7.594</td>\n",
              "      <td>1.456</td>\n",
              "      <td>1.582</td>\n",
              "      <td>0.861</td>\n",
              "      <td>0.686</td>\n",
              "      <td>0.286</td>\n",
              "      <td>0.340</td>\n",
              "    </tr>\n",
              "    <tr>\n",
              "      <th>2</th>\n",
              "      <td>3</td>\n",
              "      <td>2018</td>\n",
              "      <td>Denmark</td>\n",
              "      <td>7.555</td>\n",
              "      <td>1.351</td>\n",
              "      <td>1.590</td>\n",
              "      <td>0.868</td>\n",
              "      <td>0.683</td>\n",
              "      <td>0.284</td>\n",
              "      <td>0.408</td>\n",
              "    </tr>\n",
              "    <tr>\n",
              "      <th>3</th>\n",
              "      <td>4</td>\n",
              "      <td>2018</td>\n",
              "      <td>Iceland</td>\n",
              "      <td>7.495</td>\n",
              "      <td>1.343</td>\n",
              "      <td>1.644</td>\n",
              "      <td>0.914</td>\n",
              "      <td>0.677</td>\n",
              "      <td>0.353</td>\n",
              "      <td>0.138</td>\n",
              "    </tr>\n",
              "    <tr>\n",
              "      <th>4</th>\n",
              "      <td>5</td>\n",
              "      <td>2018</td>\n",
              "      <td>Switzerland</td>\n",
              "      <td>7.487</td>\n",
              "      <td>1.420</td>\n",
              "      <td>1.549</td>\n",
              "      <td>0.927</td>\n",
              "      <td>0.660</td>\n",
              "      <td>0.256</td>\n",
              "      <td>0.357</td>\n",
              "    </tr>\n",
              "    <tr>\n",
              "      <th>5</th>\n",
              "      <td>6</td>\n",
              "      <td>2018</td>\n",
              "      <td>Netherlands</td>\n",
              "      <td>7.441</td>\n",
              "      <td>1.361</td>\n",
              "      <td>1.488</td>\n",
              "      <td>0.878</td>\n",
              "      <td>0.638</td>\n",
              "      <td>0.333</td>\n",
              "      <td>0.295</td>\n",
              "    </tr>\n",
              "    <tr>\n",
              "      <th>6</th>\n",
              "      <td>7</td>\n",
              "      <td>2018</td>\n",
              "      <td>Canada</td>\n",
              "      <td>7.328</td>\n",
              "      <td>1.330</td>\n",
              "      <td>1.532</td>\n",
              "      <td>0.896</td>\n",
              "      <td>0.653</td>\n",
              "      <td>0.321</td>\n",
              "      <td>0.291</td>\n",
              "    </tr>\n",
              "  </tbody>\n",
              "</table>\n",
              "</div>"
            ],
            "text/plain": [
              "   Overall rank  Year  ... Generosity  Perceptions of corruption\n",
              "0             1  2018  ...      0.202                      0.393\n",
              "1             2  2018  ...      0.286                      0.340\n",
              "2             3  2018  ...      0.284                      0.408\n",
              "3             4  2018  ...      0.353                      0.138\n",
              "4             5  2018  ...      0.256                      0.357\n",
              "5             6  2018  ...      0.333                      0.295\n",
              "6             7  2018  ...      0.321                      0.291\n",
              "\n",
              "[7 rows x 10 columns]"
            ]
          },
          "metadata": {},
          "execution_count": 4
        }
      ]
    },
    {
      "cell_type": "markdown",
      "metadata": {
        "id": "y3ha10SpN27E"
      },
      "source": [
        "# Metrics\n",
        "Identify which metrics you will be using to test your model and say why they are appropriate."
      ]
    },
    {
      "cell_type": "markdown",
      "metadata": {
        "id": "Kv8aq-tQhC-w"
      },
      "source": [
        "I will be using metrics appropriate for a regression, so **MSE**, **MAE**, and **SD**. "
      ]
    },
    {
      "cell_type": "markdown",
      "metadata": {
        "id": "67v8fsFBN7TR"
      },
      "source": [
        "# Baseline Performance\n",
        "Identify a baseline for your metrics - what would you expect to happen with this particular data if you always guessed the average or if you guessed randomly? What did some of the unsuccessful machine learning algorithms yield?\n",
        "\n",
        "Some helpful links:\n",
        "- [Sklearn Dummy Regressor](https://scikit-learn.org/stable/modules/generated/sklearn.dummy.DummyRegressor.html)"
      ]
    },
    {
      "cell_type": "code",
      "metadata": {
        "id": "mGE56w6bN5_N",
        "colab": {
          "base_uri": "https://localhost:8080/"
        },
        "outputId": "7ec12f3b-39d2-46a4-ba89-ee4135da9d61"
      },
      "source": [
        "# build and test a baseline model here\n",
        "hap['Score'].mean()"
      ],
      "execution_count": 5,
      "outputs": [
        {
          "output_type": "execute_result",
          "data": {
            "text/plain": [
              "5.379017902998729"
            ]
          },
          "metadata": {},
          "execution_count": 5
        }
      ]
    },
    {
      "cell_type": "markdown",
      "metadata": {
        "id": "5-2vpKzaiXyP"
      },
      "source": [
        "I would guess the average is 5, because it is a scale out of 10. The actual average is 5.379. So any model that can find a closer value will be better than the mean. "
      ]
    },
    {
      "cell_type": "markdown",
      "metadata": {
        "id": "bot75U5WOLLT"
      },
      "source": [
        "# Model planning and Execution\n",
        "Identify which learning algorithms you have tried and which important parameters you’ve tuned for each one.\n"
      ]
    },
    {
      "cell_type": "markdown",
      "metadata": {
        "id": "_8UhaRfbjkhW"
      },
      "source": [
        "I am going to be trying a knn, sklearn knn, sknlearn weighted knn, tree, random tree, and then all of that on normalized data as well.  "
      ]
    },
    {
      "cell_type": "code",
      "metadata": {
        "id": "oTqOhnnGOQOZ",
        "colab": {
          "base_uri": "https://localhost:8080/"
        },
        "outputId": "6c2c8f3b-f7e3-43b4-9541-55bd5b1af2fc"
      },
      "source": [
        "# Execute your plan here (build and test your models to answer your question)\n",
        "\n",
        "#first is knn regression \n",
        "\n",
        "shuffled_data = hap.sample(frac= 1, random_state = 41)\n",
        "\n",
        "def knnregression(example, train_data, k):\n",
        "  train_datacopy = train_data.copy()\n",
        "  train_datacopy['distance_to_new'] = numpy.sqrt(\n",
        "      (example['GDP per capita']- train_datacopy['GDP per capita'])**2\n",
        "      +(example['Social support and Family'] - train_datacopy['Social support and Family'])**2\n",
        "      +(example['Generosity'] - train_datacopy['Generosity'])**2\n",
        "      +(example['Freedom to make life choices'] - train_datacopy['Freedom to make life choices'])**2\n",
        "      +(example['Perceptions of corruption'] - train_datacopy['Perceptions of corruption'])**2\n",
        "      +(example['Healthy life expectancy'] - train_datacopy['Healthy life expectancy'])**2)\n",
        "  sorted_data = train_datacopy.sort_values(['distance_to_new'])\n",
        "  return sorted_data.iloc[0:k]['Score'].mean()\n",
        "\n",
        "def MSE(actual,predicted):\n",
        "  squared = []\n",
        "  csquared = (actual - predicted)**2\n",
        "  squared.append(csquared)\n",
        "  MSE = numpy.sum(squared)/(test_data['Score'].count())\n",
        "  return MSE\n",
        "\n",
        "def all_knn_mse(test_data,train_data,k):\n",
        "  return test_data.apply(knnregression,args=(train_data,k),axis=1)\n",
        "\n",
        "test_data = shuffled_data.iloc[0:500]\n",
        "train_data = shuffled_data.iloc[500:]\n",
        "\n",
        "test_data.shape\n",
        "train_data.shape"
      ],
      "execution_count": 6,
      "outputs": [
        {
          "output_type": "execute_result",
          "data": {
            "text/plain": [
              "(282, 10)"
            ]
          },
          "metadata": {},
          "execution_count": 6
        }
      ]
    },
    {
      "cell_type": "code",
      "metadata": {
        "colab": {
          "base_uri": "https://localhost:8080/",
          "height": 308
        },
        "id": "PU2IOyxSm4eH",
        "outputId": "55937791-80e0-4eba-86e7-0233b10071a9"
      },
      "source": [
        "import matplotlib.pyplot as plt\n",
        "import numpy\n",
        "%matplotlib inline\n",
        "\n",
        "k_vals = [1,3,5,9,15,21,31,51,101,129, 500]\n",
        "knn_mse = []\n",
        "\n",
        "for k in k_vals:\n",
        "    predictions = all_knn_mse(test_data,train_data,k)\n",
        "    current_mse = MSE(test_data['Score'],predictions)\n",
        "    knn_mse.append(current_mse)\n",
        "\n",
        "plt.suptitle('Score',fontsize=18)\n",
        "plt.xlabel('k')\n",
        "plt.ylabel('MSE')\n",
        "plt.plot(k_vals,knn_mse,'ro-',label='k-NN')\n",
        "plt.legend(loc='lower left', shadow=True)\n",
        "plt.axis([0,130,0,1])\n",
        "\n",
        "plt.show()"
      ],
      "execution_count": 7,
      "outputs": [
        {
          "output_type": "display_data",
          "data": {
            "image/png": "[encoded data removed]",
            "text/plain": [
              "<Figure size 432x288 with 1 Axes>"
            ]
          },
          "metadata": {
            "needs_background": "light"
          }
        }
      ]
    },
    {
      "cell_type": "code",
      "metadata": {
        "id": "qXtzOt7ZpLEw"
      },
      "source": [
        "import sklearn\n",
        "import pandas\n",
        "from sklearn import tree\n",
        "from sklearn.model_selection import train_test_split\n",
        "from sklearn import metrics\n",
        "from sklearn import neighbors\n",
        "from sklearn.preprocessing import StandardScaler\n",
        "\n",
        "#split the data\n",
        "predictors = ['GDP per capita',\t'Social support and Family',\t'Healthy life expectancy', \n",
        "              'Freedom to make life choices',\t'Generosity',\t'Perceptions of corruption']\n",
        "target = \"Score\"\n",
        "train_data, test_data, train_sln, test_sln = \\\n",
        "        train_test_split(hap[predictors], hap[target], test_size = 0.2, random_state=41)\n"
      ],
      "execution_count": 8,
      "outputs": []
    },
    {
      "cell_type": "code",
      "metadata": {
        "colab": {
          "base_uri": "https://localhost:8080/"
        },
        "id": "nzcTzJgxpxGr",
        "outputId": "f64b6f08-5df1-48e6-ae63-7982ef493afc"
      },
      "source": [
        "# make sure it looks okay\n",
        "print('train_data shape: ',train_data.shape)\n",
        "print('test_data shape: ',test_data.shape)\n",
        "print('train_sln shape: ',train_sln.shape)\n",
        "print('test_sln shape: ',test_sln.shape)\n",
        "\n",
        "print(train_data.head())\n",
        "print(test_data.head())\n",
        "print(train_sln.head())\n",
        "print(test_sln.head())"
      ],
      "execution_count": 9,
      "outputs": [
        {
          "output_type": "stream",
          "name": "stdout",
          "text": [
            "train_data shape:  (625, 6)\n",
            "test_data shape:  (157, 6)\n",
            "train_sln shape:  (625,)\n",
            "test_sln shape:  (157,)\n",
            "     GDP per capita  ...  Perceptions of corruption\n",
            "294        0.275000  ...                   0.085000\n",
            "555        1.027870  ...                   0.212860\n",
            "584        0.740360  ...                   0.250280\n",
            "347        1.070622  ...                   0.046669\n",
            "660        1.207400  ...                   0.135860\n",
            "\n",
            "[5 rows x 6 columns]\n",
            "     GDP per capita  ...  Perceptions of corruption\n",
            "333        1.107353  ...                   0.111093\n",
            "603        1.094260  ...                   0.124250\n",
            "143        0.357000  ...                   0.099000\n",
            "700        0.474280  ...                   0.042320\n",
            "20         1.233000  ...                   0.034000\n",
            "\n",
            "[5 rows x 6 columns]\n",
            "294    4.085\n",
            "555    5.155\n",
            "584    4.404\n",
            "347    6.357\n",
            "660    6.302\n",
            "Name: Score, dtype: float64\n",
            "333    6.635\n",
            "603    3.974\n",
            "143    3.692\n",
            "700    5.286\n",
            "20     6.711\n",
            "Name: Score, dtype: float64\n"
          ]
        }
      ]
    },
    {
      "cell_type": "code",
      "metadata": {
        "colab": {
          "base_uri": "https://localhost:8080/"
        },
        "id": "zkYb9Y5gqLa3",
        "outputId": "b2a305b1-046d-4092-8e79-2d48bc2d1ad4"
      },
      "source": [
        "# kNN \n",
        "# create our model\n",
        "neigh = neighbors.KNeighborsRegressor(n_neighbors=10)\n",
        "\n",
        "# fit (train) the model to the data\n",
        "neigh.fit(train_data, train_sln)\n",
        "\n",
        "# use the trained model to get predictions from our test_data\n",
        "predictions = neigh.predict(test_data)\n",
        "\n",
        "# use a metric to see how good our predictions are\n",
        "print('MSE: ', metrics.mean_squared_error(test_sln, predictions))\n",
        "print('r2: ', metrics.r2_score(test_sln, predictions))"
      ],
      "execution_count": 10,
      "outputs": [
        {
          "output_type": "stream",
          "name": "stdout",
          "text": [
            "MSE:  0.2583534494418564\n",
            "r2:  0.7907441919640464\n"
          ]
        }
      ]
    },
    {
      "cell_type": "code",
      "metadata": {
        "colab": {
          "base_uri": "https://localhost:8080/"
        },
        "id": "r9-XFWeZqOMl",
        "outputId": "50eb39bd-dced-4ac6-87c0-c98781884012"
      },
      "source": [
        "# w-knn \n",
        "# create our model\n",
        "neigh = neighbors.KNeighborsRegressor(n_neighbors=10, weights = 'distance')\n",
        "\n",
        "# fit (train) the model to the data\n",
        "neigh.fit(train_data, train_sln)\n",
        "\n",
        "# use the trained model to get predictions from our test_data\n",
        "predictions = neigh.predict(test_data)\n",
        "\n",
        "# use a metric to see how good our predictions are\n",
        "print('MSE: ', metrics.mean_squared_error(test_sln, predictions))\n",
        "print('r2: ', metrics.r2_score(test_sln, predictions))"
      ],
      "execution_count": 11,
      "outputs": [
        {
          "output_type": "stream",
          "name": "stdout",
          "text": [
            "MSE:  0.24670061968015633\n",
            "r2:  0.8001825111076766\n"
          ]
        }
      ]
    },
    {
      "cell_type": "code",
      "metadata": {
        "colab": {
          "base_uri": "https://localhost:8080/"
        },
        "id": "h1jzL2HOqrXO",
        "outputId": "d20f39b9-208b-403d-b1bc-98653dad701b"
      },
      "source": [
        "decision = tree.DecisionTreeRegressor(criterion='mse', max_leaf_nodes= 8)\n",
        "decision.fit(train_data, train_sln)\n",
        "predictions = decision.predict(test_data)\n",
        "print('MSE: ', metrics.mean_squared_error(test_sln, predictions))\n",
        "print('r2: ', metrics.r2_score(test_sln, predictions))"
      ],
      "execution_count": 12,
      "outputs": [
        {
          "output_type": "stream",
          "name": "stdout",
          "text": [
            "MSE:  0.3942506709625031\n",
            "r2:  0.6806729583088371\n"
          ]
        }
      ]
    },
    {
      "cell_type": "code",
      "metadata": {
        "colab": {
          "base_uri": "https://localhost:8080/",
          "height": 683
        },
        "id": "-kEi-V74qwn0",
        "outputId": "b17f32ee-a671-4134-d7a9-50cd1a9ed1c9"
      },
      "source": [
        "import matplotlib.pyplot as plt\n",
        "\n",
        "plt.figure(figsize=(12,12)) # Makes is to the graph isn't tiny\n",
        "tree.plot_tree(decision);"
      ],
      "execution_count": 13,
      "outputs": [
        {
          "output_type": "display_data",
          "data": {
            "image/png": "[encoded data removed]",
            "text/plain": [
              "<Figure size 864x864 with 1 Axes>"
            ]
          },
          "metadata": {
            "needs_background": "light"
          }
        }
      ]
    },
    {
      "cell_type": "code",
      "metadata": {
        "colab": {
          "base_uri": "https://localhost:8080/"
        },
        "id": "1NRdLi83qKPC",
        "outputId": "5c393cf0-a0fb-435b-f27e-517dd15c12cf"
      },
      "source": [
        "from sklearn.ensemble import RandomForestRegressor\n",
        "forest = RandomForestRegressor(random_state = 0, n_estimators = 100)\n",
        "forest.fit(train_data, train_sln)\n",
        "predictions = forest.predict(test_data)\n",
        "print('MSE: ', metrics.mean_squared_error(test_sln, predictions))\n",
        "print('r2: ', metrics.r2_score(test_sln, predictions))"
      ],
      "execution_count": 14,
      "outputs": [
        {
          "output_type": "stream",
          "name": "stdout",
          "text": [
            "MSE:  0.22085768282030896\n",
            "r2:  0.8211142410548185\n"
          ]
        }
      ]
    },
    {
      "cell_type": "markdown",
      "metadata": {
        "id": "exA1ulkNr2W0"
      },
      "source": [
        "This is all on **normalized** data after here. "
      ]
    },
    {
      "cell_type": "code",
      "metadata": {
        "colab": {
          "base_uri": "https://localhost:8080/"
        },
        "id": "tTWzNpy_r1uG",
        "outputId": "ca0159e9-59e4-49e4-80c7-a9db53b100eb"
      },
      "source": [
        "# normalize the data\n",
        "from sklearn.preprocessing import StandardScaler\n",
        "scaler = StandardScaler()\n",
        "scaler.fit(train_data)\n",
        "train_data_normalized = scaler.transform(train_data)\n",
        "test_data_normalized = scaler.transform(test_data)\n",
        "\n",
        "# run a knn\n",
        "# using the nonweighted with small k \n",
        "neigh = neighbors.KNeighborsRegressor(n_neighbors=10)\n",
        "\n",
        "# fit (train) the model to the data\n",
        "neigh.fit(train_data_normalized, train_sln)\n",
        "\n",
        "# use the trained model to get predictions from our test_data\n",
        "predictions = neigh.predict(test_data_normalized)\n",
        "\n",
        "# use a metric to see how good our predictions are\n",
        "print('MSE: ', metrics.mean_squared_error(test_sln, predictions))\n",
        "print('r2: ', metrics.r2_score(test_sln, predictions))"
      ],
      "execution_count": 15,
      "outputs": [
        {
          "output_type": "stream",
          "name": "stdout",
          "text": [
            "MSE:  0.2570793186662046\n",
            "r2:  0.7917761861780912\n"
          ]
        }
      ]
    },
    {
      "cell_type": "code",
      "metadata": {
        "colab": {
          "base_uri": "https://localhost:8080/"
        },
        "id": "cd7x5K6csdh5",
        "outputId": "2dc5949e-600f-4beb-e33e-69da2ea0446d"
      },
      "source": [
        "neigh = neighbors.KNeighborsRegressor(n_neighbors=10, weights = 'distance')\n",
        "\n",
        "# fit (train) the model to the data\n",
        "neigh.fit(train_data_normalized, train_sln)\n",
        "\n",
        "# use the trained model to get predictions from our test_data\n",
        "predictions = neigh.predict(test_data_normalized)\n",
        "\n",
        "# use a metric to see how good our predictions are\n",
        "print('MSE: ', metrics.mean_squared_error(test_sln, predictions))\n",
        "print('r2: ', metrics.r2_score(test_sln, predictions))"
      ],
      "execution_count": 16,
      "outputs": [
        {
          "output_type": "stream",
          "name": "stdout",
          "text": [
            "MSE:  0.24917127767644975\n",
            "r2:  0.7981813784093836\n"
          ]
        }
      ]
    },
    {
      "cell_type": "code",
      "metadata": {
        "colab": {
          "base_uri": "https://localhost:8080/"
        },
        "id": "YLr12gFWsx3t",
        "outputId": "f614f43a-fbee-4928-d212-ddeb41e296bf"
      },
      "source": [
        "decision = tree.DecisionTreeRegressor(criterion='mse', max_leaf_nodes= 8)\n",
        "decision.fit(train_data_normalized, train_sln)\n",
        "predictions = decision.predict(test_data_normalized)\n",
        "print('MSE: ', metrics.mean_squared_error(test_sln, predictions))\n",
        "print('r2: ', metrics.r2_score(test_sln, predictions))"
      ],
      "execution_count": 17,
      "outputs": [
        {
          "output_type": "stream",
          "name": "stdout",
          "text": [
            "MSE:  0.3942506709625031\n",
            "r2:  0.680672958308837\n"
          ]
        }
      ]
    },
    {
      "cell_type": "code",
      "metadata": {
        "colab": {
          "base_uri": "https://localhost:8080/",
          "height": 683
        },
        "id": "CKt9hH8Bs8hP",
        "outputId": "3d1f3a12-f1e1-41de-e272-9d4eb629f595"
      },
      "source": [
        "import matplotlib.pyplot as plt\n",
        "\n",
        "plt.figure(figsize=(12,12)) # Makes is to the graph isn't tiny\n",
        "tree.plot_tree(decision);"
      ],
      "execution_count": 18,
      "outputs": [
        {
          "output_type": "display_data",
          "data": {
            "image/png": "[encoded data removed]",
            "text/plain": [
              "<Figure size 864x864 with 1 Axes>"
            ]
          },
          "metadata": {
            "needs_background": "light"
          }
        }
      ]
    },
    {
      "cell_type": "code",
      "metadata": {
        "colab": {
          "base_uri": "https://localhost:8080/"
        },
        "id": "ddJ_LGPH0FAU",
        "outputId": "c5c47716-7827-44ca-8695-6cb06b109592"
      },
      "source": [
        "forest = RandomForestRegressor(random_state = 0, n_estimators = 100, max_features = 3)\n",
        "forest.fit(train_data_normalized, train_sln)\n",
        "predictions = forest.predict(test_data_normalized)\n",
        "print('MSE: ', metrics.mean_squared_error(test_sln, predictions))\n",
        "print('r2: ', metrics.r2_score(test_sln, predictions))"
      ],
      "execution_count": 36,
      "outputs": [
        {
          "output_type": "stream",
          "name": "stdout",
          "text": [
            "MSE:  0.22775472068951289\n",
            "r2:  0.8155279203167256\n"
          ]
        }
      ]
    },
    {
      "cell_type": "markdown",
      "metadata": {
        "id": "kMaqpNm4O9Qy"
      },
      "source": [
        "# Results\n",
        "After you conduct your learning experiment, summarize the results you got. Include visualizations (i.e. graphs) where appropriate.  How did you find the best k, n, m or other variables that you needed to tune. "
      ]
    },
    {
      "cell_type": "markdown",
      "metadata": {
        "id": "-hoeqVRIsIP7"
      },
      "source": [
        "Type     -            MSE   -   R^2 \\\n",
        "Manual Knn    -       .3-\\\n",
        "Knn            -      .25    -  .79\\\n",
        "W-Knn - .2467 - .8 \\\n",
        "Decision Tree - .39 - .68 \\\n",
        "**Forest - .2208 - .82** \\\n",
        "Normalized Knn - .257 - .791 \\\n",
        "Normalized W-Knn - .249 - .798 \\\n",
        "Normalized Decision Tree - .394 - .68\\\n",
        "Normalized Forest - .225 - .817    "
      ]
    },
    {
      "cell_type": "code",
      "metadata": {
        "colab": {
          "base_uri": "https://localhost:8080/",
          "height": 325
        },
        "id": "DJW5f-tt1L4j",
        "outputId": "ad709313-6293-4b27-db26-d0f3c4e23af4"
      },
      "source": [
        "import matplotlib.pyplot as plt\n",
        "def tune_number_of_trees(n_estimator_values):\n",
        "    randomforest_MSE = []\n",
        "    for n in n_estimator_values:\n",
        "        curr_randomforest = RandomForestRegressor(n_estimators=n, random_state=41)\n",
        "        curr_randomforest.fit(train_data,train_sln)\n",
        "        curr_predictions = curr_randomforest.predict(test_data)\n",
        "        curr_MSE = metrics.mean_squared_error(test_sln,curr_predictions)\n",
        "        randomforest_MSE.append(curr_MSE)\n",
        "\n",
        "    plt.suptitle('Random Forest MSE vs. Number of Trees', fontsize=20)\n",
        "    plt.xlabel('Number of trees')\n",
        "    plt.ylabel('MSE')\n",
        "    plt.plot(n_estimator_values,randomforest_MSE,'ro-', label = \"MSE\")\n",
        "    plt.axis([0,n_estimator_values[-1]+1,0,1.0])\n",
        "    plt.legend()\n",
        "    plt.show()\n",
        "\n",
        "    print(min(randomforest_MSE))\n",
        "    \n",
        "tune_number_of_trees(range(1,150))"
      ],
      "execution_count": 34,
      "outputs": [
        {
          "output_type": "display_data",
          "data": {
            "image/png": "[encoded data removed]",
            "text/plain": [
              "<Figure size 432x288 with 1 Axes>"
            ]
          },
          "metadata": {
            "needs_background": "light"
          }
        },
        {
          "output_type": "stream",
          "name": "stdout",
          "text": [
            "0.22635385202835476\n"
          ]
        }
      ]
    },
    {
      "cell_type": "markdown",
      "metadata": {
        "id": "Vfefn_8X5JQN"
      },
      "source": [
        "MSEs lowest is at 18 so I will use 18 trees earlier in the project. "
      ]
    },
    {
      "cell_type": "code",
      "metadata": {
        "colab": {
          "base_uri": "https://localhost:8080/",
          "height": 325
        },
        "id": "wHA1I6cAOj6P",
        "outputId": "9fc8f271-f0d5-4afc-f5aa-16cacc7de25f"
      },
      "source": [
        "def tune_max_features(max_features_values):\n",
        "    randomforest_MSEs = []\n",
        "\n",
        "    for m in max_features_values:\n",
        "        currrf = RandomForestRegressor(n_estimators=17, max_features=m, random_state=41)\n",
        "        currrf.fit(train_data, train_sln)\n",
        "        curr_predictions = currrf.predict(test_data)\n",
        "        curr_MSE = metrics.mean_squared_error(test_sln, curr_predictions)\n",
        "        randomforest_MSEs.append(curr_MSE)\n",
        "\n",
        "    plt.suptitle('Random Forest MSE vs. Max Features',fontsize=20)\n",
        "    plt.xlabel('Max Features')\n",
        "    plt.ylabel('Value')\n",
        "    plt.plot(max_features_values,randomforest_MSEs,'ro-', label = \"MSE\")\n",
        "    plt.axis([0,max_features_values[-1]+1,.2,.3])\n",
        "    plt.legend()\n",
        "    plt.show()\n",
        "\n",
        "    print(min(randomforest_MSEs))\n",
        "tune_max_features(range(1,7))"
      ],
      "execution_count": 35,
      "outputs": [
        {
          "output_type": "display_data",
          "data": {
            "image/png": "[encoded data removed]",
            "text/plain": [
              "<Figure size 432x288 with 1 Axes>"
            ]
          },
          "metadata": {
            "needs_background": "light"
          }
        },
        {
          "output_type": "stream",
          "name": "stdout",
          "text": [
            "0.24113518626266991\n"
          ]
        }
      ]
    },
    {
      "cell_type": "markdown",
      "metadata": {
        "id": "ZEUV9VdxrFb8"
      },
      "source": [
        "The lowest MSE is at 3 features so I will use that earlier in the project. "
      ]
    },
    {
      "cell_type": "markdown",
      "metadata": {
        "id": "wAOCA1Q0OWS4"
      },
      "source": [
        "# Bumps in the Road:\n",
        "What challenges did you encounter? How did you overcome these challenges? Did you have to adapt your strategy to account for these challenges? Why or why not?\n"
      ]
    },
    {
      "cell_type": "markdown",
      "metadata": {
        "id": "T1fpdGUrrk-E"
      },
      "source": [
        "The first challenge I encountered was figuring out which graphs to use. I figured I should use all of them and so I made a code block for each so I wouldnt forget any. I also had a few experiemental problems, where I decided to try using the dummy regressor, which did not work. I then forgot I had used it and none of my datasets worked so I had to reload the Happiness dataset (this took a decent amount of time before I realized). I also sturggled to get the graphs working right for figuring out the right k, and number of trees to use. For K, on the homework the smaller values seemed to work better so I did trial and error for the best one. For trees, I was able to make a graph to see where the best number of trees to use was. \n",
        "\n",
        "\n"
      ]
    },
    {
      "cell_type": "markdown",
      "metadata": {
        "id": "qBSirz71PG62"
      },
      "source": [
        "# Conclusions\n",
        "What insights/recommendations do you have? What did you find that was interesting? Which model was your best model, which models didn't work well? Why do you think this is? In general, I want a discussion of your experiment, the results, and what they mean."
      ]
    },
    {
      "cell_type": "markdown",
      "metadata": {
        "id": "GN7vn0D2xjer"
      },
      "source": [
        "Overall, the non-normalized decision forest was the best predictor, it had the lowest MSE (.22) and the highest R^2 (.82). I found it very interesting that the normalized model did not perform better. I do think that because this dataset is always on a 10.0 scale is probably wouldnt do much to change the bias. But I still would have expected otherwise. The model that did the worst for non-normalized was manually calculated knn algorithm. It had an MSE of .3 which is very high compared to the other ones. Between the normalized and the nonnormalized algorithms, the decision tree performed the worst. It had .39 MSE and .68 R^2 for both. This probably means that there arent any predictors that are especially good at predicting the target- Score. So all of the predictors do a good job contriubting to prediciting the happiness score. This would also explain why the knns performed well compared to the decision tree. "
      ]
    }
  ]
}
